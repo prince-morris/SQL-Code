{
 "cells": [
  {
   "cell_type": "markdown",
   "metadata": {},
   "source": [
    "# Understanding Email Campaign Performance Using SQL\n",
    "\n",
    "In the modern era of technology, email marketing continues to be a vital instrument for businesses aiming to connect and interact with their clientele. For someone working as a campaign analyst, comprehending the efficacy of email campaigns is pivotal, and SQL can serve as a potent instrument for assessing data on email performance.\n",
    "\n",
    "![image.png](data:image/png;base64,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)\n",
    "\n",
    "In this article, we'll explore how to use SQL to analyze email campaign performance and extract insights that can help optimize future campaigns."
   ]
  },
  {
   "cell_type": "markdown",
   "metadata": {},
   "source": [
    "## Problem Statement\n",
    "\n",
    "We have 4 tables to study the email performance of a campaign:\n",
    "- Table A contains the campaign name information\n",
    "- Table B contains the campaign id delivery performance (who the campaign was sent out to)\n",
    "- Table C contains the campaign id open performance (who opened the email)\n",
    "- Table D contains the campaign's click performance (who clicked on any elements in the email)\n",
    "\n",
    "Sample of what the table structures look like (note: assume this is a snapshot and not the full dataset):\n",
    "\n",
    "**Table A (Campaign)**\n",
    "\n",
    "| campaign_name          | campaign_id |\n",
    "|------------------------|------------|\n",
    "| Instacash Promo 1      | 112233     |\n",
    "| Instacash Promo 2      | 112244     |\n",
    "| RoarMoney Balance 5    | 112259     |\n",
    "\n",
    "\n",
    "**Table B (Email delivered)**\n",
    "\n",
    "| campaign_id | delivery_date | user_id |\n",
    "|-------------|---------------|---------|\n",
    "| 112233      | 2021-01-01    | a       |\n",
    "| 112233      | 2021-01-01    | b       |\n",
    "| 112233      | 2021-01-01    | c       |\n",
    "| 112244      | 2021-01-05    | d       |\n",
    "| 112244      | 2021-01-05    | e       |\n",
    "\n",
    "\n",
    "**Table C (Email Opened)**\n",
    "\n",
    "| campaign_id | open_date    | user_id |\n",
    "|-------------|--------------|---------|\n",
    "| 112233      | 2021-01-03   | a       |\n",
    "| 112233      | 2021-01-05   | b       |\n",
    "| 112244      | 2021-01-07   | d       |\n",
    "| 112244      | 2021-01-10   | e       |\n",
    "\n",
    "\n",
    "**Table D (Email Link Clicked)**\n",
    "\n",
    "| campaign_id | click_date   | user_id |\n",
    "|-------------|--------------|---------|\n",
    "| 112233      | 2021-01-03   | a       |\n",
    "| 112244      | 2021-01-11   | e       |\n",
    "\n",
    "- Table A: campaign_name, campaign_id \n",
    "- Table B: campaign_id, delivery_date, user_id \n",
    "- Table C: campaign_id, open_date, user_id \n",
    "- Table D: campaign_id, click_date, user_id "
   ]
  },
  {
   "cell_type": "markdown",
   "metadata": {},
   "source": [
    "\n",
    "## Problem 1\n",
    "\n",
    "Please find out the number of emails delivered per campaign_id \n",
    "\n",
    "- Expected output: \n",
    "\n",
    "`campaign_id | delivery_date | # delivers`\n",
    "\n",
    "## Problem 1.5\n",
    "Please find out the average open rate (% of people opening the email) and click through rate (% of people clicking/interacting with the email after opening it) relative to the individual campaign & their delivery date.\n",
    "\n",
    "- Expected output: \n",
    "\n",
    "`campaign_id | delivery_date | # delivers | open_rate |click_through_rate`\n",
    "\n",
    "## Problem 2\n",
    "\n",
    "How do we gauge the overall performance of the campaign based on product category (Instacash, RoarMoney) and only considering opens and clicks within 3 days from delivery date as successful performance towards the campaign? \n",
    "\n",
    "Note: any campaign that is not under Instacash or RoarMoney can be dubbed \"Others\" \n",
    "\n",
    "`campaign_category | # delivers | open_rate | click_through_rate`\n",
    "\n",
    "## Problem 3\n",
    "\n",
    "What is the average time between the 2nd and 3rd email for each individual product on an overall level?\n",
    "\n",
    "`campaign_category | Average Time taken from 2nd to 3rd email`\n",
    "\n",
    "\n",
    "#### 💡Pause the article for a while and think of the solution before moving to the next paragraphs\n",
    "\n",
    "\n",
    "### **FULL EXPLANATION ON MEDIUM - [HERE](https://medium.com/@yennhi95zz/understanding-email-campaign-performance-using-sql-a-guide-for-campaign-analysts-6407b9a60f98)**"
   ]
  },
  {
   "cell_type": "markdown",
   "metadata": {},
   "source": [
    "# ANSWER"
   ]
  },
  {
   "cell_type": "markdown",
   "metadata": {},
   "source": [
    "### A heads-up!\n",
    "\n",
    "In this notebook, I use **SQLite** to execute the commands in Jupyter Notebook. \n",
    "You can also use SQLite in https://sqliteonline.com/ to execute.\n",
    "\n",
    "Fo ref: How to use `ipython-sql` in Jupyter Notebook [LINK](https://www.geeksforgeeks.org/how-to-install-ipython-sql-package-in-jupyter-notebook/)"
   ]
  },
  {
   "cell_type": "code",
   "execution_count": 1,
   "metadata": {
    "execution": {
     "iopub.execute_input": "2023-04-10T08:17:42.004310Z",
     "iopub.status.busy": "2023-04-10T08:17:42.002933Z",
     "iopub.status.idle": "2023-04-10T08:17:53.706468Z",
     "shell.execute_reply": "2023-04-10T08:17:53.705248Z",
     "shell.execute_reply.started": "2023-04-10T08:17:42.004245Z"
    }
   },
   "outputs": [
    {
     "name": "stdout",
     "output_type": "stream",
     "text": [
      "\u001b[33mWARNING: Running pip as the 'root' user can result in broken permissions and conflicting behaviour with the system package manager. It is recommended to use a virtual environment instead: https://pip.pypa.io/warnings/venv\u001b[0m\u001b[33m\n",
      "\u001b[0m"
     ]
    }
   ],
   "source": [
    "!pip install -q ipython-sql"
   ]
  },
  {
   "cell_type": "code",
   "execution_count": 2,
   "metadata": {
    "execution": {
     "iopub.execute_input": "2023-04-10T08:17:53.714130Z",
     "iopub.status.busy": "2023-04-10T08:17:53.713668Z",
     "iopub.status.idle": "2023-04-10T08:17:53.723660Z",
     "shell.execute_reply": "2023-04-10T08:17:53.722453Z",
     "shell.execute_reply.started": "2023-04-10T08:17:53.714067Z"
    }
   },
   "outputs": [
    {
     "name": "stdout",
     "output_type": "stream",
     "text": [
      "The sql extension is already loaded. To reload it, use:\n",
      "  %reload_ext sql\n"
     ]
    }
   ],
   "source": [
    "%load_ext sql\n",
    "%reload_ext sql"
   ]
  },
  {
   "cell_type": "code",
   "execution_count": 3,
   "metadata": {
    "execution": {
     "iopub.execute_input": "2023-04-10T08:17:53.726238Z",
     "iopub.status.busy": "2023-04-10T08:17:53.725757Z",
     "iopub.status.idle": "2023-04-10T08:17:53.748843Z",
     "shell.execute_reply": "2023-04-10T08:17:53.747310Z",
     "shell.execute_reply.started": "2023-04-10T08:17:53.726187Z"
    }
   },
   "outputs": [],
   "source": [
    "%sql sqlite://"
   ]
  },
  {
   "cell_type": "code",
   "execution_count": 4,
   "metadata": {
    "execution": {
     "iopub.execute_input": "2023-04-10T08:17:53.754252Z",
     "iopub.status.busy": "2023-04-10T08:17:53.753841Z",
     "iopub.status.idle": "2023-04-10T08:17:53.779744Z",
     "shell.execute_reply": "2023-04-10T08:17:53.778207Z",
     "shell.execute_reply.started": "2023-04-10T08:17:53.754212Z"
    }
   },
   "outputs": [
    {
     "name": "stdout",
     "output_type": "stream",
     "text": [
      " * sqlite://\n",
      "Done.\n",
      "Done.\n",
      "Done.\n",
      "Done.\n",
      "Done.\n",
      "Done.\n",
      "Done.\n",
      "Done.\n"
     ]
    },
    {
     "data": {
      "text/plain": [
       "[]"
      ]
     },
     "execution_count": 4,
     "metadata": {},
     "output_type": "execute_result"
    }
   ],
   "source": [
    "%%sql\n",
    "\n",
    "-- Use SQLite in https://sqliteonline.com/ to execute the SQL\n",
    "    \n",
    "-- create table A\n",
    "CREATE TABLE table_a (\n",
    "  campaign_name STRING,\n",
    "  campaign_id INT64\n",
    ");\n",
    "\n",
    "-- insert values into table A\n",
    "INSERT INTO table_a (campaign_name, campaign_id)\n",
    "VALUES ('Instacash Promo 1', 112233), ('Instacash Promo 2', 112244), ('RoarMoney Balance 5', 112259);\n",
    "\n",
    "-- create table B\n",
    "CREATE TABLE table_b (\n",
    "  campaign_id INT64,\n",
    "  delivery_date DATE,\n",
    "  user_id STRING\n",
    ");\n",
    "\n",
    "-- insert values into table B\n",
    "INSERT INTO table_b (campaign_id, delivery_date, user_id)\n",
    "VALUES (112233, '2021-01-01', 'a'), (112233, '2021-01-01', 'b'), (112233, '2021-01-01', 'c'), \n",
    "       (112244, '2021-01-05', 'd'), (112244, '2021-01-05', 'e');\n",
    "\n",
    "-- create table C\n",
    "CREATE TABLE table_c (\n",
    "  campaign_id INT64,\n",
    "  open_date DATE,\n",
    "  user_id STRING\n",
    ");\n",
    "\n",
    "-- insert values into table C\n",
    "INSERT INTO table_c (campaign_id, open_date, user_id)\n",
    "VALUES (112233, '2021-01-03', 'a'), (112233, '2021-01-05', 'b'), (112244, '2021-01-07', 'd'), \n",
    "       (112244, '2021-01-10', 'e');\n",
    "\n",
    "-- create table D\n",
    "CREATE TABLE table_d (\n",
    "  campaign_id INT64,\n",
    "  click_date DATE,\n",
    "  user_id STRING\n",
    ");\n",
    "\n",
    "-- insert values into table D\n",
    "INSERT INTO table_d (campaign_id, click_date, user_id)\n",
    "VALUES (112233, '2021-01-03', 'a'), (112244, '2021-01-11', 'e');\n"
   ]
  },
  {
   "cell_type": "code",
   "execution_count": 5,
   "metadata": {
    "execution": {
     "iopub.execute_input": "2023-04-10T08:17:53.781080Z",
     "iopub.status.busy": "2023-04-10T08:17:53.780751Z",
     "iopub.status.idle": "2023-04-10T08:17:53.793478Z",
     "shell.execute_reply": "2023-04-10T08:17:53.792391Z",
     "shell.execute_reply.started": "2023-04-10T08:17:53.781048Z"
    }
   },
   "outputs": [
    {
     "name": "stdout",
     "output_type": "stream",
     "text": [
      " * sqlite://\n",
      "Done.\n"
     ]
    },
    {
     "data": {
      "text/html": [
       "<table>\n",
       "    <tr>\n",
       "        <th>campaign_name</th>\n",
       "        <th>campaign_id</th>\n",
       "    </tr>\n",
       "    <tr>\n",
       "        <td>Instacash Promo 1</td>\n",
       "        <td>112233</td>\n",
       "    </tr>\n",
       "    <tr>\n",
       "        <td>Instacash Promo 2</td>\n",
       "        <td>112244</td>\n",
       "    </tr>\n",
       "    <tr>\n",
       "        <td>RoarMoney Balance 5</td>\n",
       "        <td>112259</td>\n",
       "    </tr>\n",
       "</table>"
      ],
      "text/plain": [
       "[('Instacash Promo 1', 112233),\n",
       " ('Instacash Promo 2', 112244),\n",
       " ('RoarMoney Balance 5', 112259)]"
      ]
     },
     "execution_count": 5,
     "metadata": {},
     "output_type": "execute_result"
    }
   ],
   "source": [
    "%%sql\n",
    "-- View the tables\n",
    "SELECT campaign_name, campaign_id FROM table_a;"
   ]
  },
  {
   "cell_type": "code",
   "execution_count": 6,
   "metadata": {
    "execution": {
     "iopub.execute_input": "2023-04-10T08:17:53.795010Z",
     "iopub.status.busy": "2023-04-10T08:17:53.794675Z",
     "iopub.status.idle": "2023-04-10T08:17:53.807110Z",
     "shell.execute_reply": "2023-04-10T08:17:53.805712Z",
     "shell.execute_reply.started": "2023-04-10T08:17:53.794978Z"
    }
   },
   "outputs": [
    {
     "name": "stdout",
     "output_type": "stream",
     "text": [
      " * sqlite://\n",
      "Done.\n"
     ]
    },
    {
     "data": {
      "text/html": [
       "<table>\n",
       "    <tr>\n",
       "        <th>campaign_id</th>\n",
       "        <th>delivery_date</th>\n",
       "        <th>user_id</th>\n",
       "    </tr>\n",
       "    <tr>\n",
       "        <td>112233</td>\n",
       "        <td>2021-01-01</td>\n",
       "        <td>a</td>\n",
       "    </tr>\n",
       "    <tr>\n",
       "        <td>112233</td>\n",
       "        <td>2021-01-01</td>\n",
       "        <td>b</td>\n",
       "    </tr>\n",
       "    <tr>\n",
       "        <td>112233</td>\n",
       "        <td>2021-01-01</td>\n",
       "        <td>c</td>\n",
       "    </tr>\n",
       "    <tr>\n",
       "        <td>112244</td>\n",
       "        <td>2021-01-05</td>\n",
       "        <td>d</td>\n",
       "    </tr>\n",
       "    <tr>\n",
       "        <td>112244</td>\n",
       "        <td>2021-01-05</td>\n",
       "        <td>e</td>\n",
       "    </tr>\n",
       "</table>"
      ],
      "text/plain": [
       "[(112233, '2021-01-01', 'a'),\n",
       " (112233, '2021-01-01', 'b'),\n",
       " (112233, '2021-01-01', 'c'),\n",
       " (112244, '2021-01-05', 'd'),\n",
       " (112244, '2021-01-05', 'e')]"
      ]
     },
     "execution_count": 6,
     "metadata": {},
     "output_type": "execute_result"
    }
   ],
   "source": [
    "%%sql\n",
    "-- View the tables\n",
    "SELECT campaign_id, delivery_date, user_id FROM table_b;\n"
   ]
  },
  {
   "cell_type": "code",
   "execution_count": 7,
   "metadata": {
    "execution": {
     "iopub.execute_input": "2023-04-10T08:17:53.809763Z",
     "iopub.status.busy": "2023-04-10T08:17:53.809234Z",
     "iopub.status.idle": "2023-04-10T08:17:53.822211Z",
     "shell.execute_reply": "2023-04-10T08:17:53.820910Z",
     "shell.execute_reply.started": "2023-04-10T08:17:53.809702Z"
    }
   },
   "outputs": [
    {
     "name": "stdout",
     "output_type": "stream",
     "text": [
      " * sqlite://\n",
      "Done.\n"
     ]
    },
    {
     "data": {
      "text/html": [
       "<table>\n",
       "    <tr>\n",
       "        <th>campaign_id</th>\n",
       "        <th>open_date</th>\n",
       "        <th>user_id</th>\n",
       "    </tr>\n",
       "    <tr>\n",
       "        <td>112233</td>\n",
       "        <td>2021-01-03</td>\n",
       "        <td>a</td>\n",
       "    </tr>\n",
       "    <tr>\n",
       "        <td>112233</td>\n",
       "        <td>2021-01-05</td>\n",
       "        <td>b</td>\n",
       "    </tr>\n",
       "    <tr>\n",
       "        <td>112244</td>\n",
       "        <td>2021-01-07</td>\n",
       "        <td>d</td>\n",
       "    </tr>\n",
       "    <tr>\n",
       "        <td>112244</td>\n",
       "        <td>2021-01-10</td>\n",
       "        <td>e</td>\n",
       "    </tr>\n",
       "</table>"
      ],
      "text/plain": [
       "[(112233, '2021-01-03', 'a'),\n",
       " (112233, '2021-01-05', 'b'),\n",
       " (112244, '2021-01-07', 'd'),\n",
       " (112244, '2021-01-10', 'e')]"
      ]
     },
     "execution_count": 7,
     "metadata": {},
     "output_type": "execute_result"
    }
   ],
   "source": [
    "%%sql\n",
    "-- View the tables\n",
    "SELECT campaign_id, open_date, user_id FROM table_c;\n"
   ]
  },
  {
   "cell_type": "code",
   "execution_count": 8,
   "metadata": {
    "execution": {
     "iopub.execute_input": "2023-04-10T08:17:53.824158Z",
     "iopub.status.busy": "2023-04-10T08:17:53.823665Z",
     "iopub.status.idle": "2023-04-10T08:17:53.835690Z",
     "shell.execute_reply": "2023-04-10T08:17:53.834375Z",
     "shell.execute_reply.started": "2023-04-10T08:17:53.824111Z"
    }
   },
   "outputs": [
    {
     "name": "stdout",
     "output_type": "stream",
     "text": [
      " * sqlite://\n",
      "Done.\n"
     ]
    },
    {
     "data": {
      "text/html": [
       "<table>\n",
       "    <tr>\n",
       "        <th>campaign_id</th>\n",
       "        <th>click_date</th>\n",
       "        <th>user_id</th>\n",
       "    </tr>\n",
       "    <tr>\n",
       "        <td>112233</td>\n",
       "        <td>2021-01-03</td>\n",
       "        <td>a</td>\n",
       "    </tr>\n",
       "    <tr>\n",
       "        <td>112244</td>\n",
       "        <td>2021-01-11</td>\n",
       "        <td>e</td>\n",
       "    </tr>\n",
       "</table>"
      ],
      "text/plain": [
       "[(112233, '2021-01-03', 'a'), (112244, '2021-01-11', 'e')]"
      ]
     },
     "execution_count": 8,
     "metadata": {},
     "output_type": "execute_result"
    }
   ],
   "source": [
    "%%sql\n",
    "-- View the tables\n",
    "SELECT campaign_id, click_date, user_id FROM table_d;"
   ]
  },
  {
   "cell_type": "code",
   "execution_count": 9,
   "metadata": {
    "execution": {
     "iopub.execute_input": "2023-04-10T08:17:53.838146Z",
     "iopub.status.busy": "2023-04-10T08:17:53.837739Z",
     "iopub.status.idle": "2023-04-10T08:17:53.849960Z",
     "shell.execute_reply": "2023-04-10T08:17:53.848482Z",
     "shell.execute_reply.started": "2023-04-10T08:17:53.838103Z"
    }
   },
   "outputs": [
    {
     "name": "stdout",
     "output_type": "stream",
     "text": [
      " * sqlite://\n",
      "Done.\n"
     ]
    },
    {
     "data": {
      "text/html": [
       "<table>\n",
       "    <tr>\n",
       "        <th>campaign_id</th>\n",
       "        <th>delivery_date</th>\n",
       "        <th># delivers</th>\n",
       "    </tr>\n",
       "    <tr>\n",
       "        <td>112233</td>\n",
       "        <td>2021-01-01</td>\n",
       "        <td>3</td>\n",
       "    </tr>\n",
       "    <tr>\n",
       "        <td>112244</td>\n",
       "        <td>2021-01-05</td>\n",
       "        <td>2</td>\n",
       "    </tr>\n",
       "</table>"
      ],
      "text/plain": [
       "[(112233, '2021-01-01', 3), (112244, '2021-01-05', 2)]"
      ]
     },
     "execution_count": 9,
     "metadata": {},
     "output_type": "execute_result"
    }
   ],
   "source": [
    "%%sql\n",
    "-- Problem 1\n",
    "-- Please find out the number of emails delivered per campaign_id.\n",
    "SELECT campaign_id, delivery_date, COUNT(user_id) AS '# delivers'\n",
    "FROM table_b\n",
    "GROUP BY campaign_id, delivery_date;"
   ]
  },
  {
   "cell_type": "code",
   "execution_count": 10,
   "metadata": {
    "execution": {
     "iopub.execute_input": "2023-04-10T08:17:53.852488Z",
     "iopub.status.busy": "2023-04-10T08:17:53.851564Z",
     "iopub.status.idle": "2023-04-10T08:17:53.870645Z",
     "shell.execute_reply": "2023-04-10T08:17:53.868899Z",
     "shell.execute_reply.started": "2023-04-10T08:17:53.852445Z"
    }
   },
   "outputs": [
    {
     "name": "stdout",
     "output_type": "stream",
     "text": [
      " * sqlite://\n",
      "Done.\n"
     ]
    },
    {
     "data": {
      "text/html": [
       "<table>\n",
       "    <tr>\n",
       "        <th>campaign_id</th>\n",
       "        <th>delivery_date</th>\n",
       "        <th># delivers</th>\n",
       "        <th>open_rate</th>\n",
       "        <th>click_through_rate</th>\n",
       "    </tr>\n",
       "    <tr>\n",
       "        <td>112233</td>\n",
       "        <td>2021-01-01</td>\n",
       "        <td>3</td>\n",
       "        <td>66.66666666666667</td>\n",
       "        <td>50.0</td>\n",
       "    </tr>\n",
       "    <tr>\n",
       "        <td>112244</td>\n",
       "        <td>2021-01-05</td>\n",
       "        <td>2</td>\n",
       "        <td>100.0</td>\n",
       "        <td>50.0</td>\n",
       "    </tr>\n",
       "</table>"
      ],
      "text/plain": [
       "[(112233, '2021-01-01', 3, 66.66666666666667, 50.0),\n",
       " (112244, '2021-01-05', 2, 100.0, 50.0)]"
      ]
     },
     "execution_count": 10,
     "metadata": {},
     "output_type": "execute_result"
    }
   ],
   "source": [
    "%%sql\n",
    "-- Problem 1.5\n",
    "-- Please find out the average open rate (% of people opening the email) and click-through rate (% of people clicking/interacting with the email after opening it) relative to the individual campaign & their delivery date.\n",
    "SELECT b.campaign_id, b.delivery_date, COUNT(DISTINCT b.user_id) AS '# delivers', \n",
    "       COUNT(DISTINCT c.user_id) * 100.0 / COUNT(DISTINCT b.user_id) AS open_rate,\n",
    "       COUNT(DISTINCT d.user_id) * 100.0 / COUNT(DISTINCT c.user_id) AS click_through_rate\n",
    "FROM table_b b\n",
    "LEFT JOIN table_c c ON b.campaign_id = c.campaign_id AND b.user_id = c.user_id\n",
    "LEFT JOIN table_d d ON c.campaign_id = d.campaign_id AND c.user_id = d.user_id\n",
    "GROUP BY b.campaign_id, b.delivery_date;"
   ]
  },
  {
   "cell_type": "code",
   "execution_count": 11,
   "metadata": {
    "execution": {
     "iopub.execute_input": "2023-04-10T08:17:53.872966Z",
     "iopub.status.busy": "2023-04-10T08:17:53.872472Z",
     "iopub.status.idle": "2023-04-10T08:17:53.892912Z",
     "shell.execute_reply": "2023-04-10T08:17:53.891455Z",
     "shell.execute_reply.started": "2023-04-10T08:17:53.872911Z"
    }
   },
   "outputs": [
    {
     "name": "stdout",
     "output_type": "stream",
     "text": [
      " * sqlite://\n",
      "Done.\n"
     ]
    },
    {
     "data": {
      "text/html": [
       "<table>\n",
       "    <tr>\n",
       "        <th>campaign_category</th>\n",
       "        <th># delivers</th>\n",
       "        <th>open_rate</th>\n",
       "        <th>click_through_rate</th>\n",
       "    </tr>\n",
       "    <tr>\n",
       "        <td>Instacash</td>\n",
       "        <td>5</td>\n",
       "        <td>80.0</td>\n",
       "        <td>20.0</td>\n",
       "    </tr>\n",
       "    <tr>\n",
       "        <td>RoarMoney</td>\n",
       "        <td>0</td>\n",
       "        <td>None</td>\n",
       "        <td>None</td>\n",
       "    </tr>\n",
       "</table>"
      ],
      "text/plain": [
       "[('Instacash', 5, 80.0, 20.0), ('RoarMoney', 0, None, None)]"
      ]
     },
     "execution_count": 11,
     "metadata": {},
     "output_type": "execute_result"
    }
   ],
   "source": [
    "%%sql\n",
    "-- Problem 2\n",
    "-- How do we gauge the overall performance of the campaign based on product category (Instacash, RoarMoney) \n",
    "-- and only considering opens \n",
    "-- and clicks within 3 days from delivery date as successful performance towards the campaign?\n",
    "SELECT CASE \n",
    "         WHEN a.campaign_name LIKE '%Instacash%' THEN 'Instacash'\n",
    "         WHEN a.campaign_name LIKE '%RoarMoney%' THEN 'RoarMoney'\n",
    "         ELSE 'Others'\n",
    "       END AS campaign_category,\n",
    "       COUNT(DISTINCT b.user_id) AS '# delivers',\n",
    "       COUNT(DISTINCT c.user_id) * 100.0 / COUNT(DISTINCT b.user_id) AS open_rate,\n",
    "       COUNT(DISTINCT d.user_id) * 100.0 / COUNT(DISTINCT b.user_id) AS click_through_rate\n",
    "FROM table_a a\n",
    "LEFT JOIN table_b b ON a.campaign_id = b.campaign_id\n",
    "LEFT JOIN table_c c ON b.campaign_id = c.campaign_id AND b.user_id = c.user_id\n",
    "LEFT JOIN table_d d ON c.campaign_id = d.campaign_id AND c.user_id = d.user_id AND d.click_date <= date(b.delivery_date, '+3 days')\n",
    "WHERE a.campaign_name LIKE '%Instacash%' OR a.campaign_name LIKE '%RoarMoney%'\n",
    "GROUP BY campaign_category;"
   ]
  },
  {
   "cell_type": "code",
   "execution_count": 12,
   "metadata": {
    "execution": {
     "iopub.execute_input": "2023-04-10T08:17:53.895711Z",
     "iopub.status.busy": "2023-04-10T08:17:53.895212Z",
     "iopub.status.idle": "2023-04-10T08:17:53.912136Z",
     "shell.execute_reply": "2023-04-10T08:17:53.910924Z",
     "shell.execute_reply.started": "2023-04-10T08:17:53.895667Z"
    }
   },
   "outputs": [
    {
     "name": "stdout",
     "output_type": "stream",
     "text": [
      " * sqlite://\n",
      "Done.\n"
     ]
    },
    {
     "data": {
      "text/html": [
       "<table>\n",
       "    <tr>\n",
       "        <th>campaign_category</th>\n",
       "        <th>Average Time taken from 2nd to 3rd email</th>\n",
       "    </tr>\n",
       "</table>"
      ],
      "text/plain": [
       "[]"
      ]
     },
     "execution_count": 12,
     "metadata": {},
     "output_type": "execute_result"
    }
   ],
   "source": [
    "%%sql\n",
    "\n",
    "-- Problem 3\n",
    "-- What is the average time \n",
    "-- between the 2nd and 3rd email for each individual product on an overall level?\n",
    "\n",
    "SELECT CASE \n",
    "         WHEN a.campaign_name LIKE '%Instacash%' THEN 'Instacash'\n",
    "         WHEN a.campaign_name LIKE '%RoarMoney%' THEN 'RoarMoney'\n",
    "         ELSE 'Others'\n",
    "       END AS campaign_category,\n",
    "       AVG(JULIANDAY(c2.open_date) - JULIANDAY(c1.open_date)) AS \"Average Time taken from 2nd to 3rd email\"\n",
    "FROM table_a a\n",
    "LEFT JOIN table_b b1 ON a.campaign_id = b1.campaign_id\n",
    "LEFT JOIN table_b b2 ON a.campaign_id = b2.campaign_id AND b1.delivery_date < b2.delivery_date\n",
    "LEFT JOIN table_c c1 ON b1.campaign_id = c1.campaign_id AND b1.user_id = c1.user_id\n",
    "LEFT JOIN table_c c2 ON b2.campaign_id = c2.campaign_id AND b2.user_id = c2.user_id\n",
    "WHERE c1.open_date IS NOT NULL AND c2.open_date IS NOT NULL\n",
    "AND (a.campaign_name LIKE '%Instacash%' OR a.campaign_name LIKE '%RoarMoney%')\n",
    "GROUP BY campaign_category;\n"
   ]
  },
  {
   "cell_type": "markdown",
   "metadata": {},
   "source": [
    "# References:\n",
    "- Github Report - [HERE](https://github.com/prince-morris/SQL-Code)"
   ]
  },
  {
   "cell_type": "code",
   "execution_count": null,
   "metadata": {},
   "outputs": [],
   "source": []
  }
 ],
 "metadata": {
  "kernelspec": {
   "display_name": "Python 3 (ipykernel)",
   "language": "python",
   "name": "python3"
  },
  "language_info": {
   "codemirror_mode": {
    "name": "ipython",
    "version": 3
   },
   "file_extension": ".py",
   "mimetype": "text/x-python",
   "name": "python",
   "nbconvert_exporter": "python",
   "pygments_lexer": "ipython3",
   "version": "3.9.13"
  }
 },
 "nbformat": 4,
 "nbformat_minor": 4
}
